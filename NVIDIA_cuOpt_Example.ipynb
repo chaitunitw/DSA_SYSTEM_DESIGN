{
  "cells": [
    {
      "cell_type": "markdown",
      "metadata": {
        "id": "view-in-github",
        "colab_type": "text"
      },
      "source": [
        "<a href=\"https://colab.research.google.com/github/chaitunitw/DSA_SYSTEM_DESIGN/blob/main/NVIDIA_cuOpt_Example.ipynb\" target=\"_parent\"><img src=\"https://colab.research.google.com/assets/colab-badge.svg\" alt=\"Open In Colab\"/></a>"
      ]
    },
    {
      "cell_type": "markdown",
      "source": [
        "# NVIDIA cuOpt: GPU-Accelerated Optimization\n",
        "\n",
        "AMPL Minimal Example using [NVIDIA cuOpt](https://dev.ampl.com/solvers/cuopt/index.html). NVIDIA cuOpt is now [open-source](https://developer.nvidia.com/blog/accelerate-decision-optimization-using-open-source-nvidia-cuopt/) and available through AMPL! cuOpt leverages the speed of NVIDIA's GPU processors to achieve unprecedented speedups on very-large-scale linear and mixed-integer optimization problems.\n",
        "\n",
        "📊 [Streamlit Apps](https://ampl.com/streamlit/) | 💻 [AMPL Colab Examples](https://ampl.com/colab/) | 📚 [MO-Book: AMPL+Python Book](https://ampl.com/mo-book/)"
      ],
      "metadata": {
        "id": "0aci6Fvc_Rxp"
      }
    },
    {
      "cell_type": "code",
      "execution_count": null,
      "metadata": {
        "colab": {
          "base_uri": "https://localhost:8080/",
          "height": 101,
          "referenced_widgets": [
            "35d10132f0a44e80a8a62fdda264eccf",
            "25da9417968e4ddb804b902a1f4b2f0a",
            "b7d235651f664fb0a9169129ccb6b60a",
            "712ce9b94cf54e469643d6e2987d36a0",
            "c36d9aca68634cd5a496e34a30c8b2fc",
            "43d46941ed7445ea8f064adfa3109bae",
            "6d2ce4eb542f4e8b801b9339f6936685",
            "e98a751cb06b4a329352454d59a5c99b",
            "77808ec0041e4343b5852e53189548aa",
            "322f7bf14bc649299801499d424f2b33",
            "383b5b6b2a2c4f06be21c1ff394c9deb",
            "6de8f93be87143dbad55d8bd8e4e39d5",
            "64dca7f110574d158b36b16348963b30"
          ]
        },
        "id": "3xDtAc-Fa6An",
        "outputId": "37d04d4f-9d8f-4a06-ac84-174c2b68420b"
      },
      "outputs": [
        {
          "output_type": "stream",
          "name": "stdout",
          "text": [
            "\u001b[?25l   \u001b[90m━━━━━━━━━━━━━━━━━━━━━━━━━━━━━━━━━━━━━━━━\u001b[0m \u001b[32m0.0/5.7 MB\u001b[0m \u001b[31m?\u001b[0m eta \u001b[36m-:--:--\u001b[0m\r\u001b[2K   \u001b[91m━━\u001b[0m\u001b[90m╺\u001b[0m\u001b[90m━━━━━━━━━━━━━━━━━━━━━━━━━━━━━━━━━━━━━\u001b[0m \u001b[32m0.3/5.7 MB\u001b[0m \u001b[31m10.7 MB/s\u001b[0m eta \u001b[36m0:00:01\u001b[0m\r\u001b[2K   \u001b[91m━━━━━━━━━━━━━━━━━━━━━━━━━━━━━━━\u001b[0m\u001b[91m╸\u001b[0m\u001b[90m━━━━━━━━\u001b[0m \u001b[32m4.5/5.7 MB\u001b[0m \u001b[31m65.4 MB/s\u001b[0m eta \u001b[36m0:00:01\u001b[0m\r\u001b[2K   \u001b[91m━━━━━━━━━━━━━━━━━━━━━━━━━━━━━━━━━━━━━━━\u001b[0m\u001b[91m╸\u001b[0m \u001b[32m5.7/5.7 MB\u001b[0m \u001b[31m73.9 MB/s\u001b[0m eta \u001b[36m0:00:01\u001b[0m\r\u001b[2K   \u001b[90m━━━━━━━━━━━━━━━━━━━━━━━━━━━━━━━━━━━━━━━━\u001b[0m \u001b[32m5.7/5.7 MB\u001b[0m \u001b[31m53.3 MB/s\u001b[0m eta \u001b[36m0:00:00\u001b[0m\n",
            "\u001b[?25h"
          ]
        },
        {
          "output_type": "display_data",
          "data": {
            "text/plain": [
              "VBox(children=(Output(), HBox(children=(Text(value='', description='License UUID:', style=DescriptionStyle(des…"
            ],
            "application/vnd.jupyter.widget-view+json": {
              "version_major": 2,
              "version_minor": 0,
              "model_id": "35d10132f0a44e80a8a62fdda264eccf"
            }
          },
          "metadata": {}
        }
      ],
      "source": [
        "# The only 3 lines you need to install and use AMPL with any solver on Colab\n",
        "%pip install -q amplpy\n",
        "from amplpy import AMPL, ampl_notebook\n",
        "\n",
        "ampl = ampl_notebook(\n",
        "    modules=[\"cuopt\"],  # modules to install\n",
        "    license_uuid=\"your-license-uuid\",  # license to use\n",
        ")  # instantiate AMPL object and register magics"
      ]
    },
    {
      "cell_type": "code",
      "source": [
        "!nvidia-smi"
      ],
      "metadata": {
        "id": "uRytrA4Gz2Kd",
        "outputId": "fe823066-4269-482e-f77f-5e8cc11ab2c9",
        "colab": {
          "base_uri": "https://localhost:8080/"
        }
      },
      "execution_count": null,
      "outputs": [
        {
          "output_type": "stream",
          "name": "stdout",
          "text": [
            "Wed Jun 11 12:48:06 2025       \n",
            "+-----------------------------------------------------------------------------------------+\n",
            "| NVIDIA-SMI 550.54.15              Driver Version: 550.54.15      CUDA Version: 12.4     |\n",
            "|-----------------------------------------+------------------------+----------------------+\n",
            "| GPU  Name                 Persistence-M | Bus-Id          Disp.A | Volatile Uncorr. ECC |\n",
            "| Fan  Temp   Perf          Pwr:Usage/Cap |           Memory-Usage | GPU-Util  Compute M. |\n",
            "|                                         |                        |               MIG M. |\n",
            "|=========================================+========================+======================|\n",
            "|   0  Tesla T4                       Off |   00000000:00:04.0 Off |                    0 |\n",
            "| N/A   38C    P8              9W /   70W |       0MiB /  15360MiB |      0%      Default |\n",
            "|                                         |                        |                  N/A |\n",
            "+-----------------------------------------+------------------------+----------------------+\n",
            "                                                                                         \n",
            "+-----------------------------------------------------------------------------------------+\n",
            "| Processes:                                                                              |\n",
            "|  GPU   GI   CI        PID   Type   Process name                              GPU Memory |\n",
            "|        ID   ID                                                               Usage      |\n",
            "|=========================================================================================|\n",
            "|  No running processes found                                                             |\n",
            "+-----------------------------------------------------------------------------------------+\n"
          ]
        }
      ]
    },
    {
      "cell_type": "code",
      "source": [
        "import pandas as pd\n",
        "# Power plant characteristics and demand profile\n",
        "power_plants = df = pd.DataFrame({\n",
        "    \"Capacity_MW\": [500, 600, 400, 450, 1000, 200, 300],\n",
        "    \"Cost_per_MW\": [50, 55, 40, 42, 30, 0, 0],  # Solar & Wind have no fuel cost\n",
        "    \"CO2_Emission_per_MW\": [1.2, 1.1, 0.5, 0.4, 0, 0, 0],  # Carbon emissions per MW\n",
        "    \"Ramp_Rate\": [100, 120, 80, 90, 50, 300, 400],  # Max MW change per hour\n",
        "}, index=[\"Coal_1\", \"Coal_2\", \"Gas_1\", \"Gas_2\", \"Nuclear_1\", \"Solar_1\", \"Wind_1\"])\n",
        "demand = pd.DataFrame({\n",
        "    \"Demand_MW\": [800, 750, 700, 680, 660, 700, 850, 1000, 1200, 1300, 1400, 1350,\n",
        "                  1250, 1150, 1100, 1080, 1050, 1100, 1150, 1200, 1300, 1200, 1000, 900]\n",
        "}, index=range(24))"
      ],
      "metadata": {
        "id": "--hXSdR5byDD"
      },
      "execution_count": null,
      "outputs": []
    },
    {
      "cell_type": "code",
      "source": [
        "%%writefile power.mod\n",
        "# Model Author: ChatGPT\n",
        "set PLANTS;\n",
        "set HOURS;\n",
        "param Capacity{PLANTS};\n",
        "param Cost{PLANTS};\n",
        "param CO2_Emission{PLANTS};\n",
        "param Demand{HOURS};\n",
        "param RampRate{PLANTS};\n",
        "\n",
        "var Gen{PLANTS, HOURS} >= 0;\n",
        "\n",
        "# Objective: Minimize cost while considering emissions\n",
        "minimize TotalCost:\n",
        "    sum {p in PLANTS, t in HOURS} Cost[p] * Gen[p,t];\n",
        "\n",
        "# Meet demand with 10% spinning reserve\n",
        "subject to MeetDemand {t in HOURS}:\n",
        "    sum {p in PLANTS} Gen[p,t] >= 1.1 * Demand[t];\n",
        "\n",
        "# Enforce capacity limits\n",
        "subject to CapacityLimit {p in PLANTS, t in HOURS}:\n",
        "    Gen[p,t] <= Capacity[p];\n",
        "\n",
        "# Ramp rate constraint (except for first hour)\n",
        "subject to RampConstraint {p in PLANTS, t in HOURS: t > 1}:\n",
        "    abs(Gen[p,t] - Gen[p,t-1]) <= RampRate[p];\n",
        "\n",
        "# Solar and Wind availability constraints\n",
        "subject to SolarConstraint {t in HOURS: t < 6 or t > 18}:\n",
        "    Gen[\"Solar_1\", t] = 0;\n",
        "subject to WindConstraint {t in HOURS}:\n",
        "    Gen[\"Wind_1\", t] <= 300;"
      ],
      "metadata": {
        "id": "Qe4Vtg19cFCA",
        "outputId": "60633049-a95a-4e97-bfc0-613d79647771",
        "colab": {
          "base_uri": "https://localhost:8080/"
        }
      },
      "execution_count": null,
      "outputs": [
        {
          "output_type": "stream",
          "name": "stdout",
          "text": [
            "Writing power.mod\n"
          ]
        }
      ]
    },
    {
      "cell_type": "code",
      "source": [
        "ampl = AMPL()\n",
        "# Load the model\n",
        "ampl.read(\"power.mod\")\n",
        "# Load pandas data into AMPL\n",
        "ampl.set[\"PLANTS\"] = power_plants.index\n",
        "ampl.set[\"HOURS\"] = demand.index\n",
        "ampl.param[\"Capacity\"] = power_plants[\"Capacity_MW\"]\n",
        "ampl.param[\"Cost\"] = power_plants[\"Cost_per_MW\"]\n",
        "ampl.param[\"CO2_Emission\"] = power_plants[\"CO2_Emission_per_MW\"]\n",
        "ampl.param[\"Demand\"] = demand[\"Demand_MW\"]\n",
        "ampl.param[\"RampRate\"] = power_plants[\"Ramp_Rate\"]\n",
        "# Solve with NVIDIA CUOPT using GPU-accelerated algorithms\n",
        "ampl.solve(solver=\"cuopt\", cuopt_options=\"outlev=1\")\n",
        "assert ampl.solve_result == \"solved\"\n",
        "# Extract results into a pandas dataframe\n",
        "generation = ampl.var[\"Gen\"].to_pandas()\n",
        "prices = ampl.get_data(\"MeetDemand.dual\").to_pandas()"
      ],
      "metadata": {
        "id": "GJPsT_7LcPEZ",
        "outputId": "e7712b10-a359-4ac4-e023-c7f4d4b482ca",
        "colab": {
          "base_uri": "https://localhost:8080/"
        }
      },
      "execution_count": null,
      "outputs": [
        {
          "output_type": "stream",
          "name": "stdout",
          "text": [
            "CUOPT 25.5.0: Setting parameter log_to_console to true\n",
            "  tech:outlev = true\n",
            "Solving a problem with 604 constraints 447 variables (0 integers) and 1315 nonzeros\n",
            "Objective offset 0.000000 scaling_factor 1.000000\n",
            "Running concurrent\n",
            "\n",
            "Dual simplex finished in 0.01 seconds\n",
            "   Iter    Primal Obj.      Dual Obj.    Gap        Primal Res.  Dual Res.   Time\n",
            "      0 +0.00000000e+00 +0.00000000e+00  0.00e+00   5.71e+03     0.00e+00   0.092s\n",
            "PDLP finished\n",
            "Concurrent time:  0.095s\n",
            "Solved with dual simplex\n",
            "Status: Optimal   Objective: 5.49930000e+05  Iterations: 227  Time: 0.095s\n",
            "CUOPT 25.5.0: optimal; objective 549930\n"
          ]
        }
      ]
    },
    {
      "cell_type": "code",
      "source": [
        "import matplotlib.pyplot as plt\n",
        "import seaborn as sns\n",
        "\n",
        "fig, (ax1, ax2, ax3) = plt.subplots(ncols=3, figsize=(10, 6), gridspec_kw={'width_ratios': [8, 2, 2]})\n",
        "\n",
        "# Plot Power Generation Heatmap\n",
        "df = generation.unstack()\n",
        "df.columns = df.columns.droplevel(0)\n",
        "ax = sns.heatmap(df.T, ax=ax1, annot=False, fmt=\".1f\", cmap=\"coolwarm\", linewidths=0.5, linecolor=\"black\")\n",
        "ax1.set_title(\"Heatmap of Power Plant Generation\", fontsize=14)\n",
        "ax1.set_xlabel(\"Power Plants\", fontsize=12)\n",
        "ax1.set_ylabel(\"Hours\", fontsize=12)\n",
        "ax1.tick_params(axis=\"x\", rotation=90)\n",
        "ax1.tick_params(axis=\"y\", rotation=0)\n",
        "\n",
        "# Plot Demand Line Chart\n",
        "ax2.plot(demand.values, demand.index, marker='o')\n",
        "ax2.set_title(\"Demand\", fontsize=12)\n",
        "ax2.set_xlabel(\"Demand\")\n",
        "ax2.set_ylabel(\"\")\n",
        "ax2.invert_yaxis()\n",
        "\n",
        "# Plot Price Line Chart\n",
        "ax3.plot(prices.values, prices.index, marker='o')\n",
        "ax3.set_title(\"Price ($/MWh)\", fontsize=12)\n",
        "ax3.set_xlabel(\"Shadow Price\")\n",
        "ax3.set_ylabel(\"\")\n",
        "ax3.invert_yaxis()\n",
        "\n",
        "plt.tight_layout()\n",
        "plt.show()"
      ],
      "metadata": {
        "colab": {
          "base_uri": "https://localhost:8080/",
          "height": 607
        },
        "id": "Dcxrf26gfbRQ",
        "outputId": "9fae4c38-acd7-44cf-e98e-57ab68da8163"
      },
      "execution_count": null,
      "outputs": [
        {
          "output_type": "display_data",
          "data": {
            "text/plain": [
              "<Figure size 1000x600 with 4 Axes>"
            ],
            "image/png": "[encoded data removed]"
          },
          "metadata": {}
        }
      ]
    },
    {
      "cell_type": "markdown",
      "source": [
        "🔍 **Learn More:**\n",
        "- 🔗 [AMPL Website](https://ampl.com)\n",
        "- 🚀 [Start Free Now!](https://ampl.com/trial/)\n",
        "- 💼 [Follow us on LinkedIn!](https://www.linkedin.com/company/ampl)\n",
        "\n",
        "💡 **More Examples:**\n",
        "- 📊 [Streamlit Apps](https://ampl.com/streamlit/)  \n",
        "- 💻 [AMPL Colab Examples](https://ampl.com/colab/)  \n",
        "- 📚 [MO-Book: AMPL+Python Book](https://ampl.com/mo-book/)  \n",
        "\n",
        "📢 **Breaking Barriers in Optimization:**  \n",
        "- Read more about our [collaboration with NVIDIA 🚀](https://ampl.com/blog/breaking-barriers-in-optimization-ampls-early-results-with-nvidia-cuopt/)!\n",
        "\n",
        "[![Powered By AMPL](https://h.ampl.com/https://ampl.com/cuOpt)](https://ampl.com)"
      ],
      "metadata": {
        "id": "linTb4a3ijXV"
      }
    }
  ],
  "metadata": {
    "colab": {
      "provenance": [],
      "gpuType": "T4",
      "include_colab_link": true
    },
    "kernelspec": {
      "display_name": "Python 3",
      "name": "python3"
    },
    "language_info": {
      "codemirror_mode": {
        "name": "ipython",
        "version": 3
      },
      "file_extension": ".py",
      "mimetype": "text/x-python",
      "name": "python",
      "nbconvert_exporter": "python",
      "pygments_lexer": "ipython3",
      "version": "3.6.9"
    },
    "vscode": {
      "interpreter": {
        "hash": "ee4198aac13dae9b6fccd443041680d99c2643c4956ef7c80ff6dcc0057cb523"
      }
    },
    "accelerator": "GPU",
    "widgets": {
      "application/vnd.jupyter.widget-state+json": {
        "35d10132f0a44e80a8a62fdda264eccf": {
          "model_module": "@jupyter-widgets/controls",
          "model_name": "VBoxModel",
          "model_module_version": "1.5.0",
          "state": {
            "_dom_classes": [],
            "_model_module": "@jupyter-widgets/controls",
            "_model_module_version": "1.5.0",
            "_model_name": "VBoxModel",
            "_view_count": null,
            "_view_module": "@jupyter-widgets/controls",
            "_view_module_version": "1.5.0",
            "_view_name": "VBoxView",
            "box_style": "",
            "children": [
              "IPY_MODEL_25da9417968e4ddb804b902a1f4b2f0a",
              "IPY_MODEL_b7d235651f664fb0a9169129ccb6b60a",
              "IPY_MODEL_712ce9b94cf54e469643d6e2987d36a0",
              "IPY_MODEL_c36d9aca68634cd5a496e34a30c8b2fc"
            ],
            "layout": "IPY_MODEL_43d46941ed7445ea8f064adfa3109bae"
          }
        },
        "25da9417968e4ddb804b902a1f4b2f0a": {
          "model_module": "@jupyter-widgets/output",
          "model_name": "OutputModel",
          "model_module_version": "1.0.0",
          "state": {
            "_dom_classes": [],
            "_model_module": "@jupyter-widgets/output",
            "_model_module_version": "1.0.0",
            "_model_name": "OutputModel",
            "_view_count": null,
            "_view_module": "@jupyter-widgets/output",
            "_view_module_version": "1.0.0",
            "_view_name": "OutputView",
            "layout": "IPY_MODEL_383b5b6b2a2c4f06be21c1ff394c9deb",
            "msg_id": "",
            "outputs": [
              {
                "output_type": "stream",
                "name": "stdout",
                "text": [
                  "AMPL License UUID (you can use free https://ampl.com/ce or https://ampl.com/courses licenses):\n"
                ]
              }
            ]
          }
        },
        "b7d235651f664fb0a9169129ccb6b60a": {
          "model_module": "@jupyter-widgets/controls",
          "model_name": "HBoxModel",
          "model_module_version": "1.5.0",
          "state": {
            "_dom_classes": [],
            "_model_module": "@jupyter-widgets/controls",
            "_model_module_version": "1.5.0",
            "_model_name": "HBoxModel",
            "_view_count": null,
            "_view_module": "@jupyter-widgets/controls",
            "_view_module_version": "1.5.0",
            "_view_name": "HBoxView",
            "box_style": "",
            "children": [
              "IPY_MODEL_6d2ce4eb542f4e8b801b9339f6936685"
            ],
            "layout": "IPY_MODEL_e98a751cb06b4a329352454d59a5c99b"
          }
        },
        "712ce9b94cf54e469643d6e2987d36a0": {
          "model_module": "@jupyter-widgets/output",
          "model_name": "OutputModel",
          "model_module_version": "1.0.0",
          "state": {
            "_dom_classes": [],
            "_model_module": "@jupyter-widgets/output",
            "_model_module_version": "1.0.0",
            "_model_name": "OutputModel",
            "_view_count": null,
            "_view_module": "@jupyter-widgets/output",
            "_view_module_version": "1.0.0",
            "_view_name": "OutputView",
            "layout": "IPY_MODEL_6de8f93be87143dbad55d8bd8e4e39d5",
            "msg_id": "",
            "outputs": []
          }
        },
        "c36d9aca68634cd5a496e34a30c8b2fc": {
          "model_module": "@jupyter-widgets/output",
          "model_name": "OutputModel",
          "model_module_version": "1.0.0",
          "state": {
            "_dom_classes": [],
            "_model_module": "@jupyter-widgets/output",
            "_model_module_version": "1.0.0",
            "_model_name": "OutputModel",
            "_view_count": null,
            "_view_module": "@jupyter-widgets/output",
            "_view_module_version": "1.0.0",
            "_view_name": "OutputView",
            "layout": "IPY_MODEL_64dca7f110574d158b36b16348963b30",
            "msg_id": "",
            "outputs": [
              {
                "output_type": "stream",
                "name": "stdout",
                "text": [
                  "Licensed to AMPL Community Edition License for the AMPL Model Colaboratory (https://ampl.com/colab).\n"
                ]
              }
            ]
          }
        },
        "43d46941ed7445ea8f064adfa3109bae": {
          "model_module": "@jupyter-widgets/base",
          "model_name": "LayoutModel",
          "model_module_version": "1.2.0",
          "state": {
            "_model_module": "@jupyter-widgets/base",
            "_model_module_version": "1.2.0",
            "_model_name": "LayoutModel",
            "_view_count": null,
            "_view_module": "@jupyter-widgets/base",
            "_view_module_version": "1.2.0",
            "_view_name": "LayoutView",
            "align_content": null,
            "align_items": null,
            "align_self": null,
            "border": null,
            "bottom": null,
            "display": null,
            "flex": null,
            "flex_flow": null,
            "grid_area": null,
            "grid_auto_columns": null,
            "grid_auto_flow": null,
            "grid_auto_rows": null,
            "grid_column": null,
            "grid_gap": null,
            "grid_row": null,
            "grid_template_areas": null,
            "grid_template_columns": null,
            "grid_template_rows": null,
            "height": null,
            "justify_content": null,
            "justify_items": null,
            "left": null,
            "margin": null,
            "max_height": null,
            "max_width": null,
            "min_height": null,
            "min_width": null,
            "object_fit": null,
            "object_position": null,
            "order": null,
            "overflow": null,
            "overflow_x": null,
            "overflow_y": null,
            "padding": null,
            "right": null,
            "top": null,
            "visibility": null,
            "width": null
          }
        },
        "6d2ce4eb542f4e8b801b9339f6936685": {
          "model_module": "@jupyter-widgets/controls",
          "model_name": "TextModel",
          "model_module_version": "1.5.0",
          "state": {
            "_dom_classes": [],
            "_model_module": "@jupyter-widgets/controls",
            "_model_module_version": "1.5.0",
            "_model_name": "TextModel",
            "_view_count": null,
            "_view_module": "@jupyter-widgets/controls",
            "_view_module_version": "1.5.0",
            "_view_name": "TextView",
            "continuous_update": true,
            "description": "License UUID:",
            "description_tooltip": null,
            "disabled": false,
            "layout": "IPY_MODEL_77808ec0041e4343b5852e53189548aa",
            "placeholder": "​",
            "style": "IPY_MODEL_322f7bf14bc649299801499d424f2b33",
            "value": ""
          }
        },
        "e98a751cb06b4a329352454d59a5c99b": {
          "model_module": "@jupyter-widgets/base",
          "model_name": "LayoutModel",
          "model_module_version": "1.2.0",
          "state": {
            "_model_module": "@jupyter-widgets/base",
            "_model_module_version": "1.2.0",
            "_model_name": "LayoutModel",
            "_view_count": null,
            "_view_module": "@jupyter-widgets/base",
            "_view_module_version": "1.2.0",
            "_view_name": "LayoutView",
            "align_content": null,
            "align_items": null,
            "align_self": null,
            "border": null,
            "bottom": null,
            "display": null,
            "flex": null,
            "flex_flow": null,
            "grid_area": null,
            "grid_auto_columns": null,
            "grid_auto_flow": null,
            "grid_auto_rows": null,
            "grid_column": null,
            "grid_gap": null,
            "grid_row": null,
            "grid_template_areas": null,
            "grid_template_columns": null,
            "grid_template_rows": null,
            "height": null,
            "justify_content": null,
            "justify_items": null,
            "left": null,
            "margin": null,
            "max_height": null,
            "max_width": null,
            "min_height": null,
            "min_width": null,
            "object_fit": null,
            "object_position": null,
            "order": null,
            "overflow": null,
            "overflow_x": null,
            "overflow_y": null,
            "padding": null,
            "right": null,
            "top": null,
            "visibility": null,
            "width": null
          }
        },
        "77808ec0041e4343b5852e53189548aa": {
          "model_module": "@jupyter-widgets/base",
          "model_name": "LayoutModel",
          "model_module_version": "1.2.0",
          "state": {
            "_model_module": "@jupyter-widgets/base",
            "_model_module_version": "1.2.0",
            "_model_name": "LayoutModel",
            "_view_count": null,
            "_view_module": "@jupyter-widgets/base",
            "_view_module_version": "1.2.0",
            "_view_name": "LayoutView",
            "align_content": null,
            "align_items": null,
            "align_self": null,
            "border": null,
            "bottom": null,
            "display": null,
            "flex": null,
            "flex_flow": null,
            "grid_area": null,
            "grid_auto_columns": null,
            "grid_auto_flow": null,
            "grid_auto_rows": null,
            "grid_column": null,
            "grid_gap": null,
            "grid_row": null,
            "grid_template_areas": null,
            "grid_template_columns": null,
            "grid_template_rows": null,
            "height": null,
            "justify_content": null,
            "justify_items": null,
            "left": null,
            "margin": null,
            "max_height": null,
            "max_width": null,
            "min_height": null,
            "min_width": null,
            "object_fit": null,
            "object_position": null,
            "order": null,
            "overflow": null,
            "overflow_x": null,
            "overflow_y": null,
            "padding": null,
            "right": null,
            "top": null,
            "visibility": null,
            "width": null
          }
        },
        "322f7bf14bc649299801499d424f2b33": {
          "model_module": "@jupyter-widgets/controls",
          "model_name": "DescriptionStyleModel",
          "model_module_version": "1.5.0",
          "state": {
            "_model_module": "@jupyter-widgets/controls",
            "_model_module_version": "1.5.0",
            "_model_name": "DescriptionStyleModel",
            "_view_count": null,
            "_view_module": "@jupyter-widgets/base",
            "_view_module_version": "1.2.0",
            "_view_name": "StyleView",
            "description_width": "initial"
          }
        },
        "383b5b6b2a2c4f06be21c1ff394c9deb": {
          "model_module": "@jupyter-widgets/base",
          "model_name": "LayoutModel",
          "model_module_version": "1.2.0",
          "state": {
            "_model_module": "@jupyter-widgets/base",
            "_model_module_version": "1.2.0",
            "_model_name": "LayoutModel",
            "_view_count": null,
            "_view_module": "@jupyter-widgets/base",
            "_view_module_version": "1.2.0",
            "_view_name": "LayoutView",
            "align_content": null,
            "align_items": null,
            "align_self": null,
            "border": null,
            "bottom": null,
            "display": null,
            "flex": null,
            "flex_flow": null,
            "grid_area": null,
            "grid_auto_columns": null,
            "grid_auto_flow": null,
            "grid_auto_rows": null,
            "grid_column": null,
            "grid_gap": null,
            "grid_row": null,
            "grid_template_areas": null,
            "grid_template_columns": null,
            "grid_template_rows": null,
            "height": null,
            "justify_content": null,
            "justify_items": null,
            "left": null,
            "margin": null,
            "max_height": null,
            "max_width": null,
            "min_height": null,
            "min_width": null,
            "object_fit": null,
            "object_position": null,
            "order": null,
            "overflow": null,
            "overflow_x": null,
            "overflow_y": null,
            "padding": null,
            "right": null,
            "top": null,
            "visibility": null,
            "width": null
          }
        },
        "6de8f93be87143dbad55d8bd8e4e39d5": {
          "model_module": "@jupyter-widgets/base",
          "model_name": "LayoutModel",
          "model_module_version": "1.2.0",
          "state": {
            "_model_module": "@jupyter-widgets/base",
            "_model_module_version": "1.2.0",
            "_model_name": "LayoutModel",
            "_view_count": null,
            "_view_module": "@jupyter-widgets/base",
            "_view_module_version": "1.2.0",
            "_view_name": "LayoutView",
            "align_content": null,
            "align_items": null,
            "align_self": null,
            "border": null,
            "bottom": null,
            "display": null,
            "flex": null,
            "flex_flow": null,
            "grid_area": null,
            "grid_auto_columns": null,
            "grid_auto_flow": null,
            "grid_auto_rows": null,
            "grid_column": null,
            "grid_gap": null,
            "grid_row": null,
            "grid_template_areas": null,
            "grid_template_columns": null,
            "grid_template_rows": null,
            "height": null,
            "justify_content": null,
            "justify_items": null,
            "left": null,
            "margin": null,
            "max_height": null,
            "max_width": null,
            "min_height": null,
            "min_width": null,
            "object_fit": null,
            "object_position": null,
            "order": null,
            "overflow": null,
            "overflow_x": null,
            "overflow_y": null,
            "padding": null,
            "right": null,
            "top": null,
            "visibility": null,
            "width": null
          }
        },
        "64dca7f110574d158b36b16348963b30": {
          "model_module": "@jupyter-widgets/base",
          "model_name": "LayoutModel",
          "model_module_version": "1.2.0",
          "state": {
            "_model_module": "@jupyter-widgets/base",
            "_model_module_version": "1.2.0",
            "_model_name": "LayoutModel",
            "_view_count": null,
            "_view_module": "@jupyter-widgets/base",
            "_view_module_version": "1.2.0",
            "_view_name": "LayoutView",
            "align_content": null,
            "align_items": null,
            "align_self": null,
            "border": null,
            "bottom": null,
            "display": null,
            "flex": null,
            "flex_flow": null,
            "grid_area": null,
            "grid_auto_columns": null,
            "grid_auto_flow": null,
            "grid_auto_rows": null,
            "grid_column": null,
            "grid_gap": null,
            "grid_row": null,
            "grid_template_areas": null,
            "grid_template_columns": null,
            "grid_template_rows": null,
            "height": null,
            "justify_content": null,
            "justify_items": null,
            "left": null,
            "margin": null,
            "max_height": null,
            "max_width": null,
            "min_height": null,
            "min_width": null,
            "object_fit": null,
            "object_position": null,
            "order": null,
            "overflow": null,
            "overflow_x": null,
            "overflow_y": null,
            "padding": null,
            "right": null,
            "top": null,
            "visibility": null,
            "width": null
          }
        }
      }
    }
  },
  "nbformat": 4,
  "nbformat_minor": 0
}